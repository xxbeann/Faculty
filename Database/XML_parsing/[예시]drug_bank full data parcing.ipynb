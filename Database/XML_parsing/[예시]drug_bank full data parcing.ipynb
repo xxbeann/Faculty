{
 "cells": [
  {
   "cell_type": "code",
   "execution_count": 1,
   "id": "72f262da-f7e2-4b85-b179-45d2a27bef65",
   "metadata": {
    "scrolled": true
   },
   "outputs": [],
   "source": [
    "import xml.etree.ElementTree as ET\n",
    "import pandas as pd"
   ]
  },
  {
   "cell_type": "code",
   "execution_count": 2,
   "id": "fe4e30ee-966c-4124-bc2f-d835184a721a",
   "metadata": {},
   "outputs": [],
   "source": [
    "data = []\n",
    "tree = ET.parse('2024 drugbank full database.xml')\n",
    "root = tree.getroot()"
   ]
  },
  {
   "cell_type": "code",
   "execution_count": 3,
   "id": "828b656f-b29e-4f41-8fbf-75a8a4a324d0",
   "metadata": {},
   "outputs": [],
   "source": [
    "namespace = '{http://www.drugbank.ca}'"
   ]
  },
  {
   "cell_type": "code",
   "execution_count": 4,
   "id": "30a9c46a-a8a8-45b2-b4a0-60e7706610f5",
   "metadata": {
    "scrolled": true
   },
   "outputs": [],
   "source": [
    "for drug in root.findall(f'{namespace}drug'):\n",
    "    drugbank_id = drug.findtext(f'{namespace}drugbank-id')\n",
    "    name = drug.findtext(f'{namespace}name')\n",
    "    description = drug.findtext(f'{namespace}description')\n",
    "    cas_number = drug.findtext(f'{namespace}cas-number')\n",
    "    average_mass = drug.findtext(f'{namespace}average-mass')\n",
    "    monoisotopic_mass = drug.findtext(f'{namespace}monoisotopic-mass')\n",
    "    state = drug.findtext(f'{namespace}state')\n",
    "    \n",
    "    calculated_properties = []\n",
    "    for prop in drug.findall(f'{namespace}calculated-properties/{namespace}property'):\n",
    "        kind = prop.find(f'{namespace}kind').text if prop.find(f'{namespace}kind')is not None else None\n",
    "        value = prop.find(f'{namespace}value').text if prop.find(f'{namespace}value')is not None else None\n",
    "        source = prop.find(f'{namespace}source').text if prop.find(f'{namespace}source')is not None else None\n",
    "        calculated_properties.append({'kind': kind, 'value': value, 'source': source})\n",
    "        \n",
    "    reactions = []\n",
    "    for reaction in drug.findall(f'{namespace}reactions/{namespace}reaction'):\n",
    "        sequence = reaction.findtext(f'{namespace}sequence')\n",
    "        left_elements = []\n",
    "        right_elements = []\n",
    "        for left in reaction.findall(f'{namespace}left-element'):\n",
    "            left_drugbank = left.findtext(f'{namespace}drugbank-id')\n",
    "            left_name = left.findtext(f'{namespace}name')\n",
    "            left_elements.append({'drugbank_id': left_drugbank, 'name': left_name})\n",
    "        for right in reaction.findall(f'{namespace}right-element'):\n",
    "            right_drugbank = right.findtext(f'{namespace}drugbank-id')\n",
    "            right_name = right.findtext(f'{namespace}name')\n",
    "            right_elements.append({'drugbank_id': right_drugbank, 'name': right_name})\n",
    "        reactions.append({'sequence': sequence, 'left_elements': left_elements, 'right_elements': right_elements})\n",
    "\n",
    "    articles = []\n",
    "    links = []\n",
    "    general_references = drug.find(f'{namespace}general-references')\n",
    "    if general_references is not None:\n",
    "        for article in general_references.findall(f'{namespace}articles/{namespace}article'):\n",
    "            ref_id = article.findtext(f'{namespace}ref-id')\n",
    "            pubmed_id = article.findtext(f'{namespace}pubmed-id')\n",
    "            citation = article.findtext(f'{namespace}citation')\n",
    "            articles.append({'ref_id': ref_id, 'pubmed_id': pubmed_id, 'citation': citation})\n",
    "        for link in general_references.findall(f'{namespace}links/{namespace}link'):\n",
    "            ref_id = link.findtext(f'{namespace}ref-id')\n",
    "            title = link.findtext(f'{namespace}title')\n",
    "            url = link.findtext(f'{namespace}url')\n",
    "            links.append({'ref_id': ref_id, 'title': title, 'url': url})\n",
    "\n",
    "    patents = []\n",
    "\n",
    "    for patent in drug.findall(f'{namespace}patents/{namespace}patent'):\n",
    "        number = patent.findtext(f'{namespace}number')\n",
    "        country = patent.findtext(f'{namespace}country')\n",
    "        approved = patent.findtext(f'{namespace}approved')\n",
    "        expires = patent.findtext(f'{namespace}expires')\n",
    "        pediatric_extension = patent.findtext(f'{namespace}pediatric-extension')\n",
    "        patents.append({\n",
    "            'number': number,\n",
    "            'country': country,\n",
    "            'approved': approved,\n",
    "            'expires': expires,\n",
    "            'pediatric_extension': pediatric_extension\n",
    "        })\n",
    "\n",
    "        \n",
    "    data.append({\n",
    "    'Drugbank ID': drugbank_id,\n",
    "    'Name': name,\n",
    "    'Description': description,\n",
    "    'CAS Number': cas_number,\n",
    "    'Average Mass': average_mass,\n",
    "    'Monoisotopic Mass': monoisotopic_mass,\n",
    "    'State': state,\n",
    "    'Calculated Properties': calculated_properties,\n",
    "    'Reactions': reactions,\n",
    "    'Articles': articles,\n",
    "    'Links': links,\n",
    "    'Patents': patents\n",
    "    })\n",
    "        \n"
   ]
  },
  {
   "cell_type": "code",
   "execution_count": 5,
   "id": "1c55ba1d-4d4b-4c6c-88a2-98d0ad2a7fd3",
   "metadata": {},
   "outputs": [],
   "source": [
    "df = pd.DataFrame(data)\n",
    "df = df.sort_values(by='Drugbank ID')\n",
    "\n",
    "df.to_excel('drug_data.xlsx', index=False)"
   ]
  },
  {
   "cell_type": "code",
   "execution_count": null,
   "id": "3cbb2d87",
   "metadata": {},
   "outputs": [],
   "source": []
  }
 ],
 "metadata": {
  "kernelspec": {
   "display_name": "Python 3 (ipykernel)",
   "language": "python",
   "name": "python3"
  },
  "language_info": {
   "codemirror_mode": {
    "name": "ipython",
    "version": 3
   },
   "file_extension": ".py",
   "mimetype": "text/x-python",
   "name": "python",
   "nbconvert_exporter": "python",
   "pygments_lexer": "ipython3",
   "version": "3.10.12"
  }
 },
 "nbformat": 4,
 "nbformat_minor": 5
}
