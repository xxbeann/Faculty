{
 "cells": [
  {
   "cell_type": "code",
   "execution_count": null,
   "id": "b6d22c31-d24a-4c79-a631-1fbde94ea1ef",
   "metadata": {},
   "outputs": [],
   "source": [
    "import tensorflow as tf\n",
    "from tensorflow.keras import layers\n",
    "import pandas as pd\n",
    "import numpy as np\n",
    "import matplotlib.pyplot as plt\n",
    "import math"
   ]
  },
  {
   "cell_type": "code",
   "execution_count": null,
   "id": "54f0d4be-4a6d-4b73-9a76-1289b38b0880",
   "metadata": {},
   "outputs": [],
   "source": [
    "\"\"\"⨂ 자리에 적절한 값을 넣어 코드를 완성하시오\"\"\""
   ]
  },
  {
   "cell_type": "code",
   "execution_count": null,
   "id": "bc2e8024-e094-4a15-9489-8db190d05628",
   "metadata": {},
   "outputs": [],
   "source": [
    "#네트워크 학습 및 훈련에 사용할 데이터 생성\n",
    "SAMPLES = ⨂ #샘플 수 정하기\n",
    "SEED = ⨂ #본인 학번\n",
    "np.random.seed(SEED)\n",
    "tf.random.set_seed(SEED)\n",
    "x_values = np.random.uniform(low=⨂, high=⨂*math.pi, size=SAMPLES) #x값의 시작과 끝 정하기\n",
    "np.random.shuffle(x_values)\n",
    "y_values = np.sin(x_values)\n",
    "plt.plot(x_values, y_values, 'b.')\n",
    "plt.show()"
   ]
  },
  {
   "cell_type": "code",
   "execution_count": null,
   "id": "4b3294c8-8ad6-42d9-9abf-ffeeb791538a",
   "metadata": {},
   "outputs": [],
   "source": [
    "y_values += ⨂ * np.random.randn(*y_values.shape) #적절한 값을 대입해 노이즈 추가\n",
    "plt.plot(x_values, y_values, 'b.')\n",
    "plt.show()"
   ]
  },
  {
   "cell_type": "code",
   "execution_count": null,
   "id": "cbbd7af7-1dbe-4a56-b791-f79dbbd0d086",
   "metadata": {},
   "outputs": [],
   "source": [
    "#데이터 분할\n",
    "TRAIN_SPLIT = int(⨂ * SAMPLES) #학습 데이터 셋의 비율 정하기\n",
    "TEST_SPLIT = int(⨂ * SAMPLES + TRAIN_SPLIT) #테스트 데이터 셋의 비율 정하기\n",
    "\n",
    "x_train, x_validate, x_test = np.split(x_values, [TRAIN_SPLIT, TEST_SPLIT])\n",
    "y_train, y_validate, y_test = np.split(y_values, [TRAIN_SPLIT, TEST_SPLIT])\n",
    "\n",
    "assert(x_train.size + x_validate.size + x_test.size) == SAMPLES \n",
    "\n",
    "plt.plot(x_train, y_train, 'b.', label=\"Train\")\n",
    "plt.plot(x_validate, y_validate, 'y.', label=\"Validate\")\n",
    "plt.plot(x_test, y_test, 'r.', label=\"Test\")\n",
    "plt.legend()\n",
    "plt.show()"
   ]
  },
  {
   "cell_type": "code",
   "execution_count": null,
   "id": "0018840b-555a-4da3-9e3b-de826ed18114",
   "metadata": {},
   "outputs": [],
   "source": [
    "#모델 설계\n",
    "model = tf.keras.Sequential()\n",
    "model.add(layers.Dense(⨂, activation = 'relu', input_shape = (1,))) #뉴런 개수 정하기\n",
    "model.add(layers.Dense(⨂, activation='relu')) #뉴런 개수 정하기\n",
    "model.add(layers.Dense(1))\n",
    "model.compile(optimizer = 'rmsprop', loss = 'mse', metrics = ['mae'])\n",
    "model.summary()"
   ]
  },
  {
   "cell_type": "code",
   "execution_count": null,
   "id": "a3a1c3f2-2b26-4503-ab07-6ae7c599fbb7",
   "metadata": {
    "scrolled": true
   },
   "outputs": [],
   "source": [
    "#모델 학습\n",
    "history = model.fit(x_train,\n",
    "                    y_train,\n",
    "                    epochs=⨂, #에폭수 정하기\n",
    "                    batch_size=⨂, # 배치사이즈 정하기\n",
    "                    validation_data=(x_validate, y_validate))\n",
    "#model.fit : 학습\n",
    "#batch_size : 한번에 처리할 데이터 수\n",
    "#history 객체 : 매 에폭의 학습 결과를 기록."
   ]
  },
  {
   "cell_type": "code",
   "execution_count": null,
   "id": "1d7006e7-13f6-4f00-9f4b-67a495c97ab2",
   "metadata": {},
   "outputs": [],
   "source": [
    "#학습 및 훈련에서 loss 변화\n",
    "loss = history.history['loss']\n",
    "val_loss = history.history['val_loss']\n",
    "epochs = range(1, len(loss) + 1)\n",
    "\n",
    "plt.plot(epochs, loss, 'g.', label='Training loss')\n",
    "plt.plot(epochs, val_loss, 'b.', label='Validation loss')\n",
    "plt.title('Training and validation loss')\n",
    "plt.xlabel('Epochs')\n",
    "plt.ylabel('Loss')\n",
    "plt.legend()\n",
    "plt.show()"
   ]
  },
  {
   "cell_type": "code",
   "execution_count": null,
   "id": "36b57df1-7d2b-489f-aa69-c5aae68258cf",
   "metadata": {},
   "outputs": [],
   "source": [
    "SKIP = 100\n",
    "plt.plot(epochs[SKIP:], loss[SKIP:], 'g.', label = 'Training loss')\n",
    "plt.plot(epochs[SKIP:], val_loss[SKIP:], 'b.', label = 'Validation loss')\n",
    "plt.title('Training and validation loss')\n",
    "plt.xlabel('Epochs')\n",
    "plt.ylabel('Loss')\n",
    "plt.legend()\n",
    "plt.show()"
   ]
  },
  {
   "cell_type": "code",
   "execution_count": null,
   "id": "74aba890-be03-4e8b-bc68-cc75a5651786",
   "metadata": {},
   "outputs": [],
   "source": [
    "#에폭별로 mae값 비교\n",
    "mae = history.history['mae']\n",
    "val_mae = history.history['val_mae']\n",
    "plt.plot(epochs[SKIP:], mae[SKIP:], 'g.', label = 'Training MAE')\n",
    "plt.plot(epochs[SKIP:], val_mae[SKIP:], 'b.', label = 'Validation MAE')\n",
    "plt.title('Training and validation mean absolute error')\n",
    "plt.xlabel(\"Epochs\")\n",
    "plt.ylabel(\"MAE\")\n",
    "plt.legend()\n",
    "plt.show()"
   ]
  },
  {
   "cell_type": "code",
   "execution_count": null,
   "id": "0d2457e5-d010-404c-9ff6-e7f45039eba1",
   "metadata": {},
   "outputs": [],
   "source": [
    "predictions = model.predict(x_test)\n",
    "plt.clf()\n",
    "plt.title('Training data predicted vs actual values')\n",
    "plt.plot(x_test, y_test, 'b.', label = 'Actual')\n",
    "plt.plot(x_test, predictions, 'r.', label = 'Predicted')\n",
    "plt.legend()\n",
    "plt.show()"
   ]
  },
  {
   "cell_type": "code",
   "execution_count": 22,
   "id": "90642b12-f4c6-4ce8-9839-3b200e70992e",
   "metadata": {},
   "outputs": [],
   "source": [
    "model.save('sin_v2.h5') #모델 저장. 이름은 상관없으나 .h5로 저장하기"
   ]
  },
  {
   "cell_type": "code",
   "execution_count": 23,
   "id": "8e4162b9-a8cb-4486-abdc-2238aaeb5e24",
   "metadata": {},
   "outputs": [],
   "source": [
    "#테스트 데이터 및 정답 데이터 저장\n",
    "df_test = pd.DataFrame(x_test)\n",
    "df_gt = pd.DataFrame(y_test)\n",
    "df_test.to_csv(\"test_data.csv\", index = False)\n",
    "df_gt.to_csv(\"answer.csv\", index=False)"
   ]
  },
  {
   "cell_type": "code",
   "execution_count": null,
   "id": "ef34b32d-6d63-487b-8455-18ff12ebde9f",
   "metadata": {},
   "outputs": [],
   "source": [
    "#데이터랑 모델 불러와서 테스트 하는거 확인\n",
    "#저장이 잘 되었는지 확인 작업\n",
    "import tensorflow as tf\n",
    "from tensorflow.keras import layers\n",
    "import pandas as pd\n",
    "import numpy as np\n",
    "import matplotlib.pyplot as plt\n",
    "import math\n",
    "\n",
    "test_data = pd.read_csv('test_data.csv')\n",
    "answer_data = pd.read_csv('answer.csv')\n",
    "test_data = test_data.to_numpy()\n",
    "answer_data = answer_data.to_numpy()\n",
    "\n",
    "from tensorflow import keras\n",
    "model = keras.models.load_model('sin_v2.h5')\n",
    "\n",
    "predictions = model.predict(test_data)\n",
    "plt.clf()\n",
    "plt.title('Training data predicted vs actual values')\n",
    "plt.plot(test_data, answer_data, 'b.', label = 'Actual')\n",
    "plt.plot(test_data, predictions, 'r.', label = 'Predicted')\n",
    "plt.legend()\n",
    "plt.show()"
   ]
  },
  {
   "cell_type": "code",
   "execution_count": null,
   "id": "e47e58d2-6986-4818-ae34-b751bc77cebd",
   "metadata": {},
   "outputs": [],
   "source": [
    "#모델을 라즈베리 파이 보드에 올려 돌리기 위해 양자화\n",
    "converter = tf.lite.TFLiteConverter.from_keras_model(model) #Tensorflow Lite 모델로 변환 시작\n",
    "converter.optimizations = [tf.lite.Optimize.DEFAULT] #양자화를 활성화하기 위한 설정\n",
    "\n",
    "#양자화를 위한 대표 데이터셋을 제공. Tensorflow Lite의 양자화는 대표 데이터 셋을 사용해 훈련된 모델을 정수 연산으로 변환.\n",
    "def representative_dataset_generator():\n",
    "    for value in x_test:\n",
    "        yield [np.array(value, dtype = np.float32, ndmin = 2)]\n",
    "\n",
    "converter.representative_dataset = representative_dataset_generator #양자화에 사용할 데이터 지정\n",
    "tflite_model = converter.convert() # 모델을 Tensorflow 모델로 변환.\n",
    "open(\"sine_model_quantized.tflite\", \"wb\").write(tflite_model) # 모델 저장\n",
    "\n",
    "#양자화 한 모델 불러와서 테스트\n",
    "model = tf.lite.Interpreter(\"sine_model_quantized.tflite\")\n",
    "model.allocate_tensors()\n",
    "input_index = model.get_input_details()[0][\"index\"]\n",
    "output_index = model.get_output_details()[0][\"index\"]\n",
    "predict = []\n",
    "\n",
    "for x_value in x_test:\n",
    "    x_value_tensor = tf.convert_to_tensor([[x_value]], dtype = np.float32)\n",
    "    model.set_tensor(input_index, x_value_tensor)\n",
    "    model.invoke()\n",
    "    predict.append(model.get_tensor(output_index)[0])\n",
    "\n",
    "#predictions : 양자화 전 모델 테스트 결과\n",
    "#predict : 양자화 된 모델 테스트 결과\n",
    "plt.clf()\n",
    "plt.title('Comparison of various models against actual values')\n",
    "plt.plot(x_test, y_test, 'bo', label = 'Actual')\n",
    "plt.plot(x_test, predictions, 'ro', label = 'Orinal predictions')\n",
    "plt.plot(x_test, predict, 'g^', label = 'Quant predictions')\n",
    "plt.legend()\n",
    "plt.show()\n",
    "\n",
    "\n",
    "#변환 전, 후 저장한 모델의 크기 비교\n",
    "import os\n",
    "basic_model = os.path.getsize(\"sin_v2.h5\")\n",
    "print(\"변환 전 : \", basic_model)\n",
    "trans_model = os.path.getsize(\"sine_model_quantized.tflite\")\n",
    "print(\"변환 후 : \", trans_model)"
   ]
  }
 ],
 "metadata": {
  "kernelspec": {
   "display_name": "base",
   "language": "python",
   "name": "python3"
  },
  "language_info": {
   "codemirror_mode": {
    "name": "ipython",
    "version": 3
   },
   "file_extension": ".py",
   "mimetype": "text/x-python",
   "name": "python",
   "nbconvert_exporter": "python",
   "pygments_lexer": "ipython3",
   "version": "3.10.9"
  }
 },
 "nbformat": 4,
 "nbformat_minor": 5
}
