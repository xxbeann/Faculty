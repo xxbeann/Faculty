{
 "cells": [
  {
   "cell_type": "code",
   "execution_count": null,
   "id": "ae02981c-183a-4596-a052-2f20a7a34408",
   "metadata": {},
   "outputs": [],
   "source": [
    "#필요한 라이브러리 불러기기 및 텐서플로우 버전 확인\n",
    "import os\n",
    "import tensorflow as tf\n",
    "import seaborn as sns\n",
    "import numpy as np\n",
    "import pandas as pd\n",
    "import matplotlib.pyplot as plt\n",
    "import matplotlib.image as mpimg\n",
    "from PIL import Image\n",
    "print(tf.__version__)\n",
    "! python -V"
   ]
  },
  {
   "cell_type": "code",
   "execution_count": null,
   "id": "b206c6ff-5fcd-4e71-8601-e7d04f418fe9",
   "metadata": {},
   "outputs": [],
   "source": [
    "# GPU 사용을 위한 설정\n",
    "gpus = tf.config.experimental.list_physical_devices('GPU')\n",
    "if len(gpus) > 0:\n",
    "    try:\n",
    "        # GPU 메모리 할당 제한 (적절히 설정 가능)\n",
    "        tf.config.experimental.set_virtual_device_configuration(\n",
    "            gpus[0], [tf.config.experimental.VirtualDeviceConfiguration(memory_limit=4096)])  # 예시: 4GB 할당\n",
    "        print(\"GPU 메모리 설정 완료\")\n",
    "    except RuntimeError as e:\n",
    "        print(e)\n",
    "else:\n",
    "    print(\"GPU 사용 불가\")"
   ]
  },
  {
   "cell_type": "code",
   "execution_count": null,
   "id": "47d3de7a-224c-49c1-904d-98ea9d26bb09",
   "metadata": {
    "scrolled": true
   },
   "outputs": [],
   "source": [
    "#GPU 사용 가능할 때만 돌리는 코드\n",
    "import os\n",
    "import tensorflow as tf\n",
    "from tensorflow.python.client import device_lib\n",
    "os.environ[\"CUDA_VISIBLE_DEVICES\"] = \"0\" #GPU 할당\n",
    "print(device_lib.list_local_devices()) #CPU, GPU 리스트 보는 법"
   ]
  },
  {
   "cell_type": "code",
   "execution_count": null,
   "id": "a296a890-e04a-4244-954e-81ddb6eda6e5",
   "metadata": {
    "scrolled": true
   },
   "outputs": [],
   "source": [
    "#GPU에 대한 내용 확인 시 사용하는 코드\n",
    "!nvidia-smi"
   ]
  },
  {
   "cell_type": "code",
   "execution_count": null,
   "id": "5192500e-c2b3-4f9d-8cf4-81a88d5429d3",
   "metadata": {},
   "outputs": [],
   "source": [
    "# GPU 사용 가능 여부 확인\n",
    "print(tf.test.is_gpu_available())"
   ]
  },
  {
   "cell_type": "code",
   "execution_count": null,
   "id": "0e8e259e-12f2-4f6b-a1ea-711833a27499",
   "metadata": {},
   "outputs": [],
   "source": [
    "# mnist data 불러와서 학습 및 테스트로 분할 \n",
    "mnist = tf.keras.datasets.mnist\n",
    "(x_train, y_train), (x_test, y_test) = mnist.load_data()\n",
    "\n",
    "# 데이터셋 크기 확인\n",
    "print(f\"학습 데이터 개수: {x_train.shape[0]}\")  # 학습 데이터 개수\n",
    "print(f\"테스트 데이터 개수: {x_test.shape[0]}\")  # 테스트 데이터 개수\n",
    "print(f\"전체 데이터 개수: {x_train.shape[0] + x_test.shape[0]}\")  # 전체 데이터 개수"
   ]
  },
  {
   "cell_type": "code",
   "execution_count": null,
   "id": "e1644cfb-ef7f-49cc-9f01-48c18bc27401",
   "metadata": {},
   "outputs": [],
   "source": [
    "# 불러온 데이터 중 NAN 값 있는지 확인\n",
    "print(np.isnan(x_train).any())\n",
    "print(np.isnan(y_train).any())\n",
    "print(np.isnan(x_test).any())\n",
    "print(np.isnan(y_test).any())"
   ]
  },
  {
   "cell_type": "code",
   "execution_count": 8,
   "id": "8a786169-4337-4fe0-af42-dd43ed1f5c41",
   "metadata": {},
   "outputs": [],
   "source": [
    "# 불러온 데이터를 학습하기 위해 \n",
    "input_shape = (28, 28, 1)\n",
    "x_train=x_train.reshape(x_train.shape[0], x_train.shape[1], x_train.shape[2], 1)\n",
    "x_train=x_train / 255.0\n",
    "x_test = x_test.reshape(x_test.shape[0], x_test.shape[1], x_test.shape[2], 1)\n",
    "x_test=x_test/255.0"
   ]
  },
  {
   "cell_type": "code",
   "execution_count": 9,
   "id": "00eae0e1-151e-4093-a610-0c3eb165685b",
   "metadata": {},
   "outputs": [],
   "source": [
    "# one-hot 인코딩을 사용해 라벨 값을 이진 벡터로 표현\n",
    "y_train = tf.one_hot(y_train.astype(np.int32), depth=10)\n",
    "y_test = tf.one_hot(y_test.astype(np.int32), depth=10)"
   ]
  },
  {
   "cell_type": "code",
   "execution_count": null,
   "id": "d77e1df0-d54a-4277-9302-9b124d2eeb2b",
   "metadata": {
    "scrolled": true
   },
   "outputs": [],
   "source": [
    "# 변환 후 결과확인 \n",
    "plt.imshow(x_train[100][:,:,0])\n",
    "print(y_train[100])"
   ]
  },
  {
   "cell_type": "code",
   "execution_count": 11,
   "id": "51482dd0-fb17-4cd6-b814-295e444762d6",
   "metadata": {},
   "outputs": [],
   "source": [
    "# 모델 학습 파라미터 결정\n",
    "##부분 값을 채우세요\n",
    "batch_size = 512\n",
    "num_classes = 10\n",
    "epochs = 20"
   ]
  },
  {
   "cell_type": "code",
   "execution_count": 13,
   "id": "c1cd54c1-a4fd-457c-8929-b416eaeafba9",
   "metadata": {},
   "outputs": [],
   "source": [
    "# 모델 계계\n",
    "model = tf.keras.models.Sequential([\n",
    "    tf.keras.layers.Conv2D(32, (5,5), padding='same', activation='relu', input_shape=input_shape),\n",
    "    tf.keras.layers.Conv2D(32, (5,5), padding='same', activation='relu'),\n",
    "    tf.keras.layers.MaxPool2D(),\n",
    "    tf.keras.layers.Dropout(0.25),\n",
    "    tf.keras.layers.Conv2D(64, (3,3), padding='same', activation='relu'),\n",
    "    tf.keras.layers.Conv2D(64, (3,3), padding='same', activation='relu'),\n",
    "    tf.keras.layers.MaxPool2D(strides=(2,2)),\n",
    "    tf.keras.layers.Dropout(0.25),\n",
    "    tf.keras.layers.Flatten(),\n",
    "    tf.keras.layers.Dense(128, activation='relu'),\n",
    "    tf.keras.layers.Dropout(0.5),\n",
    "    tf.keras.layers.Dense(num_classes, activation='softmax')\n",
    "])\n",
    "\n",
    "model.compile(optimizer=tf.keras.optimizers.RMSprop(epsilon=1e-08), loss='categorical_crossentropy', metrics=['acc'])"
   ]
  },
  {
   "cell_type": "code",
   "execution_count": 14,
   "id": "2d438d89-026c-4a0c-a2a6-ffc1982d664f",
   "metadata": {},
   "outputs": [],
   "source": [
    "# 모델의 call back 클래스 설정\n",
    "#threshold 값을 채우세요.\n",
    "class myCallback(tf.keras.callbacks.Callback):\n",
    "  def on_epoch_end(self, epoch, logs={}):\n",
    "    if(logs.get('acc')>0.99):\n",
    "      print(\"\\nReached (threshold)% accuracy so cancelling training!\")\n",
    "      self.model.stop_training = True\n",
    "\n",
    "callbacks = myCallback()"
   ]
  },
  {
   "cell_type": "code",
   "execution_count": null,
   "id": "a74d0bf0-5116-4a80-94b3-b13429bdf0e3",
   "metadata": {},
   "outputs": [],
   "source": [
    "#모델 학습\n",
    "history = model.fit(x_train, y_train,\n",
    "                    batch_size=batch_size,\n",
    "                    epochs=epochs,\n",
    "                    validation_split=0.1,\n",
    "                    callbacks=[callbacks])"
   ]
  },
  {
   "cell_type": "code",
   "execution_count": null,
   "id": "902979cf-6bb6-4111-8045-4ae3638a20a7",
   "metadata": {},
   "outputs": [],
   "source": [
    "# 학습 결과 그래프로 표현\n",
    "fig, ax = plt.subplots(2,1)\n",
    "ax[0].plot(history.history['loss'], color='b', label=\"Training Loss\")\n",
    "ax[0].plot(history.history['val_loss'], color='r', label=\"Validation Loss\")\n",
    "legend = ax[0].legend(loc='best', shadow=True)\n",
    "\n",
    "ax[1].plot(history.history['acc'], color='b', label=\"Training Accuracy\")\n",
    "ax[1].plot(history.history['val_acc'], color='r',label=\"Validation Accuracy\")\n",
    "legend = ax[1].legend(loc='best', shadow=True)\n",
    "plt.savefig(\"training_result.png\")\n",
    "plt.show()"
   ]
  },
  {
   "cell_type": "code",
   "execution_count": null,
   "id": "12978812-d557-4571-ad8a-e0aeaffe6b40",
   "metadata": {},
   "outputs": [],
   "source": [
    "# 테스트 데이터 셋을 통해 모델 성능 평가\n",
    "test_loss, test_acc = model.evaluate(x_test, y_test)"
   ]
  },
  {
   "cell_type": "code",
   "execution_count": null,
   "id": "5817fb03-b137-41c4-a4c4-06124dca5a0f",
   "metadata": {},
   "outputs": [],
   "source": [
    "# 테스트 데이터 셋으로 예측\n",
    "Y_pred = model.predict(x_test)\n",
    "# 예측 결과를 one-hot 인코딩으로 이진 벡터로 변환\n",
    "Y_pred_classes = np.argmax(Y_pred,axis = 1) \n",
    "# 정답 값을 one-hot 인코딩으로 이진 벡터로 변환\n",
    "Y_true = np.argmax(y_test,axis = 1)\n",
    "# 혼돈 매트릭스 계산\n",
    "confusion_mtx = tf.math.confusion_matrix(Y_true, Y_pred_classes) "
   ]
  },
  {
   "cell_type": "code",
   "execution_count": null,
   "id": "5da012a9-effb-496c-a60e-ae1f1ce2ed53",
   "metadata": {},
   "outputs": [],
   "source": [
    "#혼돈 매트릭스 그래프로 그기기\n",
    "plt.figure(figsize=(10, 8))\n",
    "sns.heatmap(confusion_mtx, annot=True, fmt='g')\n",
    "plt.savefig(\"confusion.png\")"
   ]
  },
  {
   "cell_type": "code",
   "execution_count": null,
   "id": "722fca7b-7cec-44a8-ab84-d4f1c49f861b",
   "metadata": {},
   "outputs": [],
   "source": [
    "from PIL import Image, ImageOps, ImageEnhance\n",
    "import numpy as np\n",
    "\n",
    "# 이미지를 불러와서 크기 출력\n",
    "image_path = './ipad_image/0.jpg'  # 실제 이미지 경로로 변경\n",
    "img = Image.open(image_path)\n",
    "print(f\"Original image size: {img.size}, Mode: {img.mode}\")\n",
    "\n",
    "# 원본 이미지 출력\n",
    "plt.imshow(img, cmap='gray' if img.mode == 'L' else None)  # 흑백이면 cmap='gray'로 설정\n",
    "plt.title('Original Image')  # 제목 설정\n",
    "plt.axis('off')  # 축 숨기기\n",
    "plt.show()"
   ]
  },
  {
   "cell_type": "code",
   "execution_count": null,
   "id": "ddaae632-039c-44c9-bd75-809eea2d0cf7",
   "metadata": {},
   "outputs": [],
   "source": [
    "# 1. 직접 촬영한 이미지를 불러와서 전처리하는 함수\n",
    "def preprocess_image(image_path):\n",
    "    # 이미지 불러오기\n",
    "    img = Image.open(image_path)\n",
    "    \n",
    "    # 이미지 크기 및 채널 확인 (디버깅용)\n",
    "    print(f\"Original image size: {img.size}, Mode: {img.mode}\")\n",
    "    \n",
    "    # 흑백 이미지로 변환 ('L' 모드)\n",
    "    img_gray = img.convert('L')  # 'L'은 흑백 이미지로 변환\n",
    "    \n",
    "    # 이미지 반전: MNIST와 동일하게 글씨가 흰색, 배경이 검정색으로 변환\n",
    "    img_inverted = ImageOps.invert(img_gray)  # 색 반전\n",
    "    \n",
    "    # 리사이즈 전에 크기 확인\n",
    "    print(f\"Resizing image to 28x28. Original size: {img_inverted.size}\")\n",
    "    \n",
    "    # 원본 이미지를 28x28 크기로 리사이즈\n",
    "    img_resized = img_inverted.resize((28, 28))  # MNIST 이미지 크기인 28x28로 리사이즈\n",
    "    \n",
    "    # 이미지를 numpy 배열로 변환\n",
    "    img_array = np.array(img_resized)  # 리사이즈된 이미지 배열로 변환\n",
    "    \n",
    "    # 모델 입력에 맞게 형태 변경\n",
    "    img_normalized = img_array.reshape(28, 28, 1)  # (28, 28, 1)로 변환\n",
    "    img_normalized = img_normalized / 255.0  # 정규화\n",
    "    \n",
    "    # 배치 차원 추가\n",
    "    img_normalized = np.expand_dims(img_normalized, axis=0)  # 배치 차원 추가\n",
    "    \n",
    "    return img, img_normalized  # RGB 원본 이미지와 전처리된 이미지를 반환\n",
    "\n",
    "# 3. 이미지를 전처리하여 모델에 입력 가능한 형태로 변환\n",
    "img_original, processed_image = preprocess_image(image_path)\n",
    "\n",
    "# 4. 원본 이미지와 리사이즈된 이미지를 한 화면에 표시\n",
    "fig, axes = plt.subplots(1, 2, figsize=(10, 5))  # 1x2 그리드로 서브플롯 생성\n",
    "\n",
    "# 원본 이미지 출력\n",
    "axes[0].imshow(img_original, cmap='gray')\n",
    "axes[0].set_title('Original Image')\n",
    "axes[0].axis('off')  # 축 숨기기\n",
    "\n",
    "# 리사이즈된 이미지 출력 (배치 차원 제거)\n",
    "axes[1].imshow(processed_image.squeeze(), cmap='gray')  # 배치 차원 제거하고 표시\n",
    "axes[1].set_title('Resized Image (28x28)')\n",
    "axes[1].axis('off')  # 축 숨기기\n",
    "\n",
    "plt.tight_layout()\n",
    "plt.show()\n",
    "\n",
    "# 5. 모델을 사용하여 예측\n",
    "predicted_probabilities = model.predict(processed_image)\n",
    "predicted_class = np.argmax(predicted_probabilities, axis=1)\n",
    "\n",
    "# 6. 예측 결과 출력\n",
    "print(f\"예측된 숫자: {predicted_class[0]}\")"
   ]
  },
  {
   "cell_type": "code",
   "execution_count": null,
   "id": "e5c32aa5-1ff9-4861-9c37-ee03e7961772",
   "metadata": {
    "scrolled": true
   },
   "outputs": [],
   "source": [
    "import matplotlib.pyplot as plt\n",
    "\n",
    "def display_sample_images(x_data, y_data, num_samples=10):\n",
    "    \"\"\"\n",
    "    학습 데이터에서 샘플 이미지를 출력하는 함수.\n",
    "\n",
    "    Parameters:\n",
    "        x_data (numpy array): 입력 이미지 데이터 (예: x_train)\n",
    "        y_data (numpy array): 라벨 데이터 (예: y_train)\n",
    "        num_samples (int): 출력할 샘플 이미지 수 (기본값: 10)\n",
    "    \"\"\"\n",
    "    plt.figure(figsize=(5, 1))  # 전체 플롯 크기 설정\n",
    "    for i in range(num_samples):\n",
    "        plt.subplot(1, num_samples, i + 1)  # 1행 num_samples열의 서브플롯 생성\n",
    "        plt.imshow(x_data[i].squeeze(), cmap='gray')  # 이미지 출력 (채널 제거 후)\n",
    "        plt.title(f\"Label: {np.argmax(y_data[i])}\")  # 라벨 출력 (원-핫 인코딩 기준)\n",
    "        plt.axis('off')  # 축 숨기기\n",
    "    plt.tight_layout()\n",
    "    plt.show()\n",
    "\n",
    "# 사용 예시\n",
    "display_sample_images(x_train, y_train, num_samples=5)\n"
   ]
  }
 ],
 "metadata": {
  "kernelspec": {
   "display_name": "GPU",
   "language": "python",
   "name": "virtualenv1"
  },
  "language_info": {
   "codemirror_mode": {
    "name": "ipython",
    "version": 3
   },
   "file_extension": ".py",
   "mimetype": "text/x-python",
   "name": "python",
   "nbconvert_exporter": "python",
   "pygments_lexer": "ipython3",
   "version": "3.10.13"
  }
 },
 "nbformat": 4,
 "nbformat_minor": 5
}
