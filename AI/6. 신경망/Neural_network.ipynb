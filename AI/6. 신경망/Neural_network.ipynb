{
 "cells": [
  {
   "cell_type": "markdown",
   "metadata": {},
   "source": [
    "### DNN\n",
    "Deep Neural Network\n",
    "\n",
    "https://playground.tensorflow.org  \n",
    "https://scikit-learn.org/stable/modules/generated/sklearn.neural_network.MLPClassifier.html#sklearn.neural_network.MLPClassifier.predict  \n",
    "https://scikit-learn.org/stable/modules/generated/sklearn.datasets.load_digits.html  "
   ]
  },
  {
   "cell_type": "code",
   "execution_count": 1,
   "metadata": {},
   "outputs": [],
   "source": [
    "import numpy as np\n",
    "import matplotlib.pyplot as plt\n",
    "\n",
    "from sklearn.neural_network import MLPClassifier\n",
    "from sklearn.datasets import load_digits\n",
    "from sklearn.model_selection import train_test_split\n",
    "from sklearn.metrics import confusion_matrix, ConfusionMatrixDisplay"
   ]
  },
  {
   "cell_type": "code",
   "execution_count": null,
   "metadata": {},
   "outputs": [],
   "source": [
    "digits = load_digits()\n",
    "print(digits.data.shape)\n",
    "\n",
    "print(digits.data)\n",
    "print(digits.target)"
   ]
  },
  {
   "cell_type": "code",
   "execution_count": null,
   "metadata": {},
   "outputs": [],
   "source": [
    "for i in range(9):\n",
    "    plt.subplot(3,3,i+1)\n",
    "    plt.imshow(digits.images[i],cmap='gray')\n",
    "    plt.title(str(i))\n"
   ]
  },
  {
   "cell_type": "code",
   "execution_count": null,
   "metadata": {},
   "outputs": [],
   "source": [
    "X = digits.data / 16\n",
    "y = digits.target\n",
    "\n",
    "X_train, X_test, y_train, y_test = train_test_split(\n",
    "    X, \n",
    "    y,\n",
    "    stratify=y, \n",
    "    test_size=0.5, \n",
    "    random_state=195397 # 본인학번으로 변경\n",
    ") \n",
    "\n",
    "print(X_train.shape)\n",
    "print(y_train.shape)\n",
    "\n",
    "print(np.unique(y_train, return_counts=True))"
   ]
  },
  {
   "cell_type": "code",
   "execution_count": null,
   "metadata": {},
   "outputs": [],
   "source": [
    "model = MLPClassifier(\n",
    "    hidden_layer_sizes=(8, 8), #(1st layer num neuro, 2nd layer num neuro....)\n",
    "    # activation='logistic', # sigmoid\n",
    "    activation='relu',\n",
    "    # solver='sgd',\n",
    "    solver='adam', \n",
    "    alpha=1e-4,\n",
    "    batch_size='auto',\n",
    "    learning_rate = 'adaptive', # 'adaptive'\n",
    "    learning_rate_init = 0.003,\n",
    "    max_iter=3000,\n",
    "    tol = 1e-5,\n",
    "    n_iter_no_change=20,\n",
    "    momentum = 0.9,\n",
    "    verbose=False,\n",
    "    early_stopping=False,\n",
    "    random_state=195397) # 본인학번으로 변경\n",
    "\n",
    "\n",
    "model.fit(X_train,y_train)\n",
    "\n",
    "plt.plot(model.loss_curve_)\n",
    "plt.show()"
   ]
  },
  {
   "cell_type": "code",
   "execution_count": null,
   "metadata": {},
   "outputs": [],
   "source": [
    "pred_train = model.predict(X_train)\n",
    "print(\"train acc:\", np.sum(pred_train==y_train) / len(y_train) )"
   ]
  },
  {
   "cell_type": "code",
   "execution_count": null,
   "metadata": {},
   "outputs": [],
   "source": [
    "cmTrain = confusion_matrix(y_train, pred_train, labels=model.classes_)\n",
    "disp = ConfusionMatrixDisplay(confusion_matrix=cmTrain, display_labels=model.classes_)\n",
    "disp.plot()\n"
   ]
  },
  {
   "cell_type": "code",
   "execution_count": null,
   "metadata": {},
   "outputs": [],
   "source": [
    "pred_test = model.predict(X_test)\n",
    "print(\"test acc:\", np.sum(pred_test==y_test) / len(y_test) )\n",
    "\n",
    "cmTest = confusion_matrix(y_test, pred_test, labels=model.classes_)\n",
    "disp = ConfusionMatrixDisplay(confusion_matrix=cmTest, display_labels=model.classes_)\n",
    "disp.plot()"
   ]
  }
 ],
 "metadata": {
  "kernelspec": {
   "display_name": "lecture",
   "language": "python",
   "name": "python3"
  },
  "language_info": {
   "codemirror_mode": {
    "name": "ipython",
    "version": 3
   },
   "file_extension": ".py",
   "mimetype": "text/x-python",
   "name": "python",
   "nbconvert_exporter": "python",
   "pygments_lexer": "ipython3",
   "version": "3.12.2"
  },
  "orig_nbformat": 4
 },
 "nbformat": 4,
 "nbformat_minor": 2
}
