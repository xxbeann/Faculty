{
 "cells": [
  {
   "attachments": {},
   "cell_type": "markdown",
   "metadata": {},
   "source": [
    "https://pypi.org/project/sklearn-som/  \n",
    "https://sklearn-som.readthedocs.io/en/latest/  \n",
    "\n",
    "SOM - 퍼셉트론 베이스 비지도학습 중 하나.\n"
   ]
  },
  {
   "cell_type": "code",
   "execution_count": 1,
   "metadata": {},
   "outputs": [],
   "source": [
    "## Insatll sklearn_SOM\n",
    "try:\n",
    "    from sklearn_som.som import SOM\n",
    "except:\n",
    "    %pip install sklearn-som\n",
    "    from sklearn_som.som import SOM"
   ]
  },
  {
   "cell_type": "code",
   "execution_count": 2,
   "metadata": {},
   "outputs": [],
   "source": [
    "import numpy as np\n",
    "import matplotlib.pyplot as plt\n",
    "from sklearn import datasets\n"
   ]
  },
  {
   "cell_type": "code",
   "execution_count": 3,
   "metadata": {},
   "outputs": [],
   "source": [
    "def plotLine(center):\n",
    "    m = center.shape[0]\n",
    "    n = center.shape[1]\n",
    "    for i in range(m):\n",
    "        for j in range(n-1):\n",
    "            plt.plot( [center[i,j,0],center[i,j+1,0]] , [center[i,j,1],center[i,j+1,1]] , c = 'k')\n",
    "            \n",
    "    for i in range(n):\n",
    "        for j in range(m-1):\n",
    "            plt.plot( [center[j,i,0],center[j+1,i,0]] , [center[j,i,1],center[j+1,i,1]] , c = 'k')"
   ]
  },
  {
   "cell_type": "code",
   "execution_count": null,
   "metadata": {},
   "outputs": [],
   "source": [
    "X, y =  datasets.make_blobs(n_samples=400,\n",
    "                n_features=2,\n",
    "                centers=3,\n",
    "                cluster_std=2,\n",
    "                shuffle=True, \n",
    "                random_state=195397 #본인학번이용\n",
    "                )\n",
    "\n",
    "X_train = X.copy()\n",
    "\n",
    "print(\"X shape:\", X.shape)\n",
    "# plt.scatter(X_train[:,0], X_train[:,1], c=y_train, cmap=plt.cm.brg, s=50, edgecolor='k')\n",
    "plt.scatter(X_train[:,0], X_train[:,1], s=50, edgecolor='k')\n",
    "plt.show()"
   ]
  },
  {
   "cell_type": "code",
   "execution_count": null,
   "metadata": {},
   "outputs": [],
   "source": [
    "model = SOM(m=5, n=5, dim=2, # m x n\n",
    "            lr = 1,\n",
    "            max_iter=400,\n",
    "            random_state = 195397\n",
    "            )\n",
    "model.fit(X_train)\n",
    "\n",
    "print(\"Cluster Center : \", model.cluster_centers_)\n",
    "print(\"inertia : \", model.inertia_)\n",
    "print(\"Iteration : \", model.n_iter_)\n",
    "\n",
    "pred_train = model.predict(X_train)\n",
    "plt.scatter(X_train[:,0], X_train[:,1],  c=pred_train, cmap=plt.cm.brg, s=50, edgecolor='k')\n",
    "plotLine(model.cluster_centers_)\n",
    "plt.show()"
   ]
  },
  {
   "cell_type": "code",
   "execution_count": null,
   "metadata": {},
   "outputs": [],
   "source": [
    "map = np.zeros( (model.m,model.n))\n",
    "feature = np.zeros( (model.m,model.n))\n",
    "\n",
    "for i in range(model.m):\n",
    "    for j in range(model.n):\n",
    "        map[i][j] = np.sum(pred_train == int(model.m*i + j))\n",
    "\n",
    "        uni,count = np.unique(y[pred_train == int(model.m*i + j)] , return_counts=True)\n",
    "        if len(uni) == 0:\n",
    "            feature[i,j] = np.nan\n",
    "        else:    \n",
    "            feature[i,j] = uni[np.argmax(count)]\n",
    "\n",
    "plt.imshow(feature, cmap=plt.cm.brg)\n",
    "plt.gca().invert_yaxis()\n",
    "for i in range(model.m):\n",
    "    for j in range(model.n):\n",
    "        if np.isnan(feature[i][j]):\n",
    "            textStr = \"%d\\n(nan)\" % (map[i][j] )\n",
    "        else:    \n",
    "            textStr = \"%d\\n(%d)\" % (map[i][j] , feature[i][j])\n",
    "        # row(y), column(x)\n",
    "        plt.text(j,i, textStr, horizontalalignment='center',verticalalignment='center')\n",
    "plt.colorbar()\n",
    "plt.title(\"SOM Map\")\n",
    "plt.text(0,-1,\"numSample\\n(origin_class)\", horizontalalignment='center',verticalalignment='center')\n",
    "plt.show()"
   ]
  },
  {
   "cell_type": "code",
   "execution_count": null,
   "metadata": {},
   "outputs": [],
   "source": [
    "digits = datasets.load_digits() # 8 * 8 data -> 한 이미지당 64개의 숫자를 가짐.\n",
    "print(digits.data.shape)\n",
    "\n",
    "print(digits.data)\n",
    "print(digits.target)\n",
    "\n",
    "X = digits.data / 16\n",
    "y = digits.target.copy()\n",
    "\n",
    "X_train = X.copy()"
   ]
  },
  {
   "cell_type": "code",
   "execution_count": null,
   "metadata": {},
   "outputs": [],
   "source": [
    "model = SOM(m=8, n=8, dim=64, # m x n\n",
    "            lr = 1,\n",
    "            max_iter=4000,\n",
    "            random_state = 195397\n",
    "            )\n",
    "model.fit(X_train)\n",
    "\n",
    "# Inertia가 줄어들었다는 건 모델이 잘 펴졌다.\n",
    "print(\"Cluster Center : \", model.cluster_centers_)\n",
    "print(\"inertia : \", model.inertia_)\n",
    "print(\"Iteratㅁion : \", model.n_iter_)\n",
    "\n",
    "pred_train = model.predict(X_train)\n",
    "plt.scatter(X_train[:,0], X_train[:,1],  c=pred_train, cmap=plt.cm.brg, s=50, edgecolor='k')\n",
    "plotLine(model.cluster_centers_)\n",
    "plt.show()"
   ]
  },
  {
   "cell_type": "code",
   "execution_count": null,
   "metadata": {},
   "outputs": [],
   "source": [
    "map = np.zeros( (model.m,model.n))\n",
    "feature = np.zeros( (model.m,model.n))\n",
    "\n",
    "for i in range(model.m):\n",
    "    for j in range(model.n):\n",
    "        map[i][j] = np.sum(pred_train == int(model.m*i + j))\n",
    "\n",
    "        uni,count = np.unique(y[pred_train == int(model.m*i + j)] , return_counts=True)\n",
    "        if len(uni) == 0:\n",
    "            feature[i,j] = np.nan\n",
    "        else:    \n",
    "            feature[i,j] = uni[np.argmax(count)]\n",
    "\n",
    "plt.imshow(feature, cmap=plt.cm.brg)\n",
    "plt.gca().invert_yaxis()\n",
    "for i in range(model.m):\n",
    "    for j in range(model.n):\n",
    "        if np.isnan(feature[i][j]):\n",
    "            textStr = \"%d\\n(nan)\" % (map[i][j] )\n",
    "        else:    \n",
    "            textStr = \"%d\\n(%d)\" % (map[i][j] , feature[i][j])\n",
    "        # row(y), column(x)\n",
    "        plt.text(j,i, textStr, horizontalalignment='center',verticalalignment='center')\n",
    "plt.colorbar()\n",
    "plt.title(\"SOM Map\")\n",
    "plt.text(0,-1,\"numSample\\n(origin_class)\", horizontalalignment='center',verticalalignment='center')\n",
    "plt.show()"
   ]
  }
 ],
 "metadata": {
  "kernelspec": {
   "display_name": "lecture",
   "language": "python",
   "name": "python3"
  },
  "language_info": {
   "codemirror_mode": {
    "name": "ipython",
    "version": 3
   },
   "file_extension": ".py",
   "mimetype": "text/x-python",
   "name": "python",
   "nbconvert_exporter": "python",
   "pygments_lexer": "ipython3",
   "version": "3.12.2"
  },
  "orig_nbformat": 4
 },
 "nbformat": 4,
 "nbformat_minor": 2
}
