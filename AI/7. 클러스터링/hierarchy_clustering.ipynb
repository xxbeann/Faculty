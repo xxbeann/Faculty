{
 "cells": [
  {
   "attachments": {},
   "cell_type": "markdown",
   "metadata": {},
   "source": [
    "https://scikit-learn.org/stable/modules/generated/sklearn.cluster.AgglomerativeClustering.html  "
   ]
  },
  {
   "cell_type": "code",
   "execution_count": 59,
   "metadata": {},
   "outputs": [],
   "source": [
    "import numpy as np\n",
    "import matplotlib.pyplot as plt\n",
    "import pandas as pd\n",
    "\n",
    "from pandas.plotting import scatter_matrix\n",
    "from sklearn import datasets\n",
    "from sklearn.cluster import AgglomerativeClustering"
   ]
  },
  {
   "cell_type": "code",
   "execution_count": null,
   "metadata": {},
   "outputs": [],
   "source": [
    "X, y =  datasets.make_blobs(n_samples=20,\n",
    "                n_features=2,\n",
    "                centers=3,\n",
    "                cluster_std=2,\n",
    "                shuffle=True, \n",
    "                random_state=195397 #본인학번이용\n",
    "                )\n",
    "\n",
    "X_train = X.copy()\n",
    "\n",
    "print(\"X shape:\", X.shape)\n",
    "plt.scatter(X_train[:,0], X_train[:,1], s=50, edgecolor='k')\n",
    "for i in range(20):\n",
    "    plt.text(X[i,0], X[i,1], str(i))\n",
    "plt.show()"
   ]
  },
  {
   "cell_type": "code",
   "execution_count": null,
   "metadata": {},
   "outputs": [],
   "source": [
    "threshold = 3.5\n",
    "model = AgglomerativeClustering(n_clusters = None,\n",
    "                                        metric = 'euclidean',\n",
    "                                        linkage = 'single',\n",
    "                                        distance_threshold=threshold,\n",
    "                                        compute_distances=True,\n",
    "                     )\n",
    "\n",
    "model.fit(X_train)\n",
    "\n",
    "print(model.children_)\n",
    "print(model.distances_)\n",
    "\n",
    "pred_train = model.labels_.copy()\n",
    "\n",
    "plt.scatter(X_train[:,0], X_train[:,1],  c=pred_train, cmap=plt.cm.brg, s=50, edgecolor='k')\n",
    "for i in range(20):\n",
    "    plt.text(X[i,0], X[i,1], str(i))\n",
    "plt.show()"
   ]
  },
  {
   "cell_type": "markdown",
   "metadata": {},
   "source": [
    "https://scikit-learn.org/stable/auto_examples/cluster/plot_agglomerative_dendrogram.html    "
   ]
  },
  {
   "cell_type": "code",
   "execution_count": 62,
   "metadata": {},
   "outputs": [],
   "source": [
    "from scipy.cluster.hierarchy import dendrogram\n",
    "\n",
    "\n",
    "def plot_dendrogram(model, **kwargs):\n",
    "    # Create linkage matrix and then plot the dendrogram\n",
    "\n",
    "    # create the counts of samples under each node\n",
    "    counts = np.zeros(model.children_.shape[0])\n",
    "    n_samples = len(model.labels_)\n",
    "    for i, merge in enumerate(model.children_):\n",
    "        current_count = 0\n",
    "        for child_idx in merge:\n",
    "            if child_idx < n_samples:\n",
    "                current_count += 1  # leaf node\n",
    "            else:\n",
    "                current_count += counts[child_idx - n_samples]\n",
    "        counts[i] = current_count\n",
    "\n",
    "    linkage_matrix = np.column_stack(\n",
    "        [model.children_, model.distances_, counts]\n",
    "    ).astype(float)\n",
    "\n",
    "    # Plot the corresponding dendrogram\n",
    "    dendrogram(linkage_matrix, **kwargs)"
   ]
  },
  {
   "cell_type": "code",
   "execution_count": null,
   "metadata": {},
   "outputs": [],
   "source": [
    "plot_dendrogram(model, color_threshold = threshold)\n",
    "plt.axhline(threshold , color = 'r')"
   ]
  },
  {
   "cell_type": "code",
   "execution_count": null,
   "metadata": {},
   "outputs": [],
   "source": [
    "## iris data로 해보자\n",
    "iris = datasets.load_iris()\n",
    "X = iris.data\n",
    "y = iris.target\n",
    "\n",
    "X_train = X.copy()\n",
    "\n",
    "\n",
    "scatter_matrix(pd.DataFrame(X, columns=iris['feature_names']), \n",
    "   s=100, figsize=(10,10)) # c = pred_train 을 넣으면 클러스터별 색상으로 표시\n",
    "plt.show()"
   ]
  },
  {
   "cell_type": "code",
   "execution_count": null,
   "metadata": {},
   "outputs": [],
   "source": [
    "threshold = 1.0\n",
    "model = AgglomerativeClustering(n_clusters = None,\n",
    "                                metric = 'euclidean',\n",
    "                                linkage = 'single',\n",
    "                                distance_threshold=threshold,\n",
    "                                compute_distances=True)\n",
    "\n",
    "model.fit(X_train)\n",
    "\n",
    "print(model.children_)\n",
    "print(model.distances_)\n",
    "\n",
    "pred_train = model.labels_.copy()\n",
    "\n",
    "plt.scatter(X_train[:,0], X_train[:,1],  c=pred_train, cmap=plt.cm.brg, s=50, edgecolor='k')\n"
   ]
  },
  {
   "cell_type": "code",
   "execution_count": null,
   "metadata": {},
   "outputs": [],
   "source": [
    "# dendrogram을 어디서 자를지 분석\n",
    "# 정답이 없음 어디서 자를지 그래서 어렵다\n",
    "plot_dendrogram(model, color_threshold = threshold)\n",
    "plt.axhline(threshold , color = 'r')"
   ]
  },
  {
   "cell_type": "code",
   "execution_count": null,
   "metadata": {},
   "outputs": [],
   "source": [
    "scatter_matrix(pd.DataFrame(X, columns=iris['feature_names']), \n",
    "   s=100, figsize=(10,10), c=pred_train) # c = pred_train 을 넣으면 클러스터별 색상으로 표시\n",
    "plt.show()"
   ]
  }
 ],
 "metadata": {
  "kernelspec": {
   "display_name": "lecture",
   "language": "python",
   "name": "python3"
  },
  "language_info": {
   "codemirror_mode": {
    "name": "ipython",
    "version": 3
   },
   "file_extension": ".py",
   "mimetype": "text/x-python",
   "name": "python",
   "nbconvert_exporter": "python",
   "pygments_lexer": "ipython3",
   "version": "3.12.2"
  },
  "orig_nbformat": 4
 },
 "nbformat": 4,
 "nbformat_minor": 2
}
