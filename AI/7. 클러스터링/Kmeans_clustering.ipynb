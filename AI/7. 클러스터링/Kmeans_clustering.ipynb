{
 "cells": [
  {
   "cell_type": "markdown",
   "metadata": {},
   "source": [
    "https://scikit-learn.org/stable/modules/generated/sklearn.cluster.KMeans.html  \n",
    "\n",
    "### 머신러닝\n",
    "* 지도학습(supervised learning) : 정답이 존재\n",
    "    * 회귀(regression)\n",
    "    * 분류(classification)\n",
    "* 비지도학습(unsupervised learning) : 정답이 없음\n",
    "    * 그룹화(군집화, clustering)\n",
    "    * 차원축소(Dimensionality reduction)\n",
    "    * 생성(Generation)\n",
    "* 강화학습(Reinforcement learning)"
   ]
  },
  {
   "cell_type": "code",
   "execution_count": 11,
   "metadata": {},
   "outputs": [],
   "source": [
    "import numpy as np\n",
    "import matplotlib.pyplot as plt\n",
    "import pandas as pd\n",
    "\n",
    "from pandas.plotting import scatter_matrix\n",
    "from sklearn import datasets\n",
    "from sklearn.cluster import KMeans"
   ]
  },
  {
   "cell_type": "code",
   "execution_count": null,
   "metadata": {},
   "outputs": [],
   "source": [
    "# 임의 데이터, 과제는 iris set\n",
    "X, y =  datasets.make_blobs(n_samples=400,\n",
    "                n_features=2,\n",
    "                centers=3,\n",
    "                cluster_std=2.0,\n",
    "                shuffle=True, \n",
    "                random_state=195397\n",
    "                )\n",
    "\n",
    "X_train = X.copy()\n",
    "\n",
    "print(\"X shape:\", X.shape)\n",
    "# plt.scatter(X_train[:,0], X_train[:,1], c=y_train, cmap=plt.cm.brg, s=50, edgecolor='k')\n",
    "plt.scatter(X_train[:,0], X_train[:,1], s=50, edgecolor='k')\n",
    "plt.show()"
   ]
  },
  {
   "cell_type": "code",
   "execution_count": null,
   "metadata": {},
   "outputs": [],
   "source": [
    "n_clusters = 2 # 차원도 2개, 클러스터도 2개\n",
    "model = KMeans(n_clusters = n_clusters,\n",
    "                       max_iter=300,\n",
    "                       tol = 1e-4,\n",
    "                       n_init = 'auto',\n",
    "                       random_state=195397) # 본인학번이용\n",
    "\n",
    "model.fit(X_train)\n",
    "\n",
    "print(\"Cluster Center : \", model.cluster_centers_)\n",
    "print(\"inertia : \", model.inertia_)\n",
    "print(\"Iteration : \", model.n_iter_)\n",
    "\n",
    "\n",
    "pred_train = model.predict(X_train)\n",
    "\n",
    "plt.scatter(X_train[:,0], X_train[:,1],  c=pred_train, cmap=plt.cm.brg, s=50, edgecolor='k')"
   ]
  },
  {
   "cell_type": "code",
   "execution_count": null,
   "metadata": {},
   "outputs": [],
   "source": [
    "# k에 따라 inertias를 계산해보자\n",
    "# 기울기가 거의변하지않기 시작하는 시작점(3)이 cluster의 최적값\n",
    "# elbow method.\n",
    "inertias = []\n",
    "for n_clusters in range(1,11):\n",
    "    model = KMeans(n_clusters = n_clusters,\n",
    "                        max_iter=300,\n",
    "                        tol = 1e-4,\n",
    "                        n_init = 'auto',\n",
    "                        random_state=195397)\n",
    "\n",
    "    model.fit(X_train)\n",
    "    inertias.append(model.inertia_)\n",
    "\n",
    "plt.plot(range(1,11),inertias , 'o-')\n",
    "plt.grid()"
   ]
  },
  {
   "cell_type": "code",
   "execution_count": null,
   "metadata": {},
   "outputs": [],
   "source": [
    "# iris data로 해보자\n",
    "iris = datasets.load_iris()\n",
    "X = iris.data\n",
    "y = iris.target\n",
    "\n",
    "X_train = X.copy()\n",
    "\n",
    "\n",
    "\n",
    "from pandas.plotting import scatter_matrix\n",
    "import pandas as pd\n",
    "\n",
    "scatter_matrix(pd.DataFrame(X, columns=iris['feature_names']), \n",
    "   s=100, figsize=(10,10)) # c = pred_train 을 넣으면 클러스터별 색상으로 표시\n",
    "plt.show()"
   ]
  },
  {
   "cell_type": "code",
   "execution_count": null,
   "metadata": {},
   "outputs": [],
   "source": [
    "# k에 따라(클러스터수에 따라) inertias를 계산해보자\n",
    "# 기울기가 거의변하지않기 시작하는 시작점(3)이 cluster의 최적값\n",
    "# elbow method.\n",
    "inertias = []\n",
    "for n_clusters in range(1,11):\n",
    "    model = KMeans(n_clusters = n_clusters,\n",
    "                        max_iter=300,\n",
    "                        tol = 1e-4,\n",
    "                        n_init = 'auto',\n",
    "                        random_state=195397)\n",
    "\n",
    "    model.fit(X_train)\n",
    "    inertias.append(model.inertia_)\n",
    "\n",
    "plt.plot(range(1,11),inertias , 'o-')\n",
    "plt.grid()"
   ]
  },
  {
   "cell_type": "code",
   "execution_count": null,
   "metadata": {},
   "outputs": [],
   "source": [
    "n_clusters = 3 # 클러스터 3\n",
    "model = KMeans(n_clusters = n_clusters,\n",
    "                       max_iter=300,\n",
    "                       tol = 1e-4,\n",
    "                       n_init = 'auto',\n",
    "                       random_state=195397) # 본인학번이용\n",
    "\n",
    "model.fit(X_train)\n",
    "\n",
    "print(\"Cluster Center : \", model.cluster_centers_)\n",
    "print(\"inertia : \", model.inertia_)\n",
    "print(\"Iteration : \", model.n_iter_)\n",
    "\n",
    "\n",
    "pred_train = model.predict(X_train)\n",
    "\n",
    "scatter_matrix(pd.DataFrame(X, columns=iris['feature_names']), \n",
    "   s=100, figsize=(10,10), c=pred_train) # c = pred_train 을 넣으면 클러스터별 색상으로 표시\n",
    "plt.show()"
   ]
  }
 ],
 "metadata": {
  "kernelspec": {
   "display_name": "lecture",
   "language": "python",
   "name": "python3"
  },
  "language_info": {
   "codemirror_mode": {
    "name": "ipython",
    "version": 3
   },
   "file_extension": ".py",
   "mimetype": "text/x-python",
   "name": "python",
   "nbconvert_exporter": "python",
   "pygments_lexer": "ipython3",
   "version": "3.12.2"
  },
  "orig_nbformat": 4
 },
 "nbformat": 4,
 "nbformat_minor": 2
}
