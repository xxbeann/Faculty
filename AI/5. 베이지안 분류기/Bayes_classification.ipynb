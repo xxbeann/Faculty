{
 "cells": [
  {
   "cell_type": "code",
   "execution_count": 1,
   "metadata": {},
   "outputs": [],
   "source": [
    "import numpy as np\n",
    "import matplotlib.pyplot as plt\n",
    "import pandas as pd\n",
    "\n",
    "from sklearn.model_selection import train_test_split\n",
    "from sklearn.naive_bayes import GaussianNB\n",
    "from sklearn import datasets\n",
    "# 혼동행렬 생성 및 시각화\n",
    "from sklearn.metrics import confusion_matrix, ConfusionMatrixDisplay"
   ]
  },
  {
   "cell_type": "code",
   "execution_count": null,
   "metadata": {},
   "outputs": [],
   "source": [
    "sms_spam = pd.read_csv(\"ham_spam.csv\")\n",
    "sms_spam"
   ]
  },
  {
   "cell_type": "code",
   "execution_count": null,
   "metadata": {},
   "outputs": [],
   "source": [
    "\"\"\" 특수문자 제거 (파일읽고 딱 한번만 실행해야함)\"\"\"\n",
    "# 특수문자 주변에 공백 추가하여 단어로 인식 가능케함.\n",
    "sms_spam['SMS'] = sms_spam['SMS'].str.replace('.',' . ')\n",
    "sms_spam['SMS'] = sms_spam['SMS'].str.replace('\\\\', ' \\\\ ')\n",
    "sms_spam['SMS'] = sms_spam['SMS'].str.replace(',', ' , ',)\n",
    "sms_spam['SMS'] = sms_spam['SMS'].str.replace('.', ' . ')\n",
    "sms_spam['SMS'] = sms_spam['SMS'].str.replace('?', ' ? ')\n",
    "sms_spam['SMS'] = sms_spam['SMS'].str.replace('!', ' ! ')\n",
    "sms_spam['SMS'] = sms_spam['SMS'].str.replace('*', ' * ')\n",
    "sms_spam['SMS'] = sms_spam['SMS'].str.replace('\\\"', ' \\\" ')\n",
    "sms_spam['SMS'] = sms_spam['SMS'].str.replace('(', ' ( ')\n",
    "sms_spam['SMS'] = sms_spam['SMS'].str.replace(')', ' ) ')\n",
    "sms_spam['SMS'] = sms_spam['SMS'].str.replace('@', ' @ ')\n",
    "sms_spam['SMS'] = sms_spam['SMS'].str.replace('/', ' / ')\n",
    "sms_spam['SMS'] = sms_spam['SMS'].str.replace('-', ' - ')\n",
    "sms_spam['SMS'] = sms_spam['SMS'].str.replace(':', ' : ')\n",
    "sms_spam['SMS'] = sms_spam['SMS'].str.lower()\n",
    "sms_spam"
   ]
  },
  {
   "cell_type": "code",
   "execution_count": null,
   "metadata": {},
   "outputs": [],
   "source": [
    "\"\"\" 갯수 확인 \"\"\"\n",
    "# label 갯수, 비율 확인\n",
    "class_count = sms_spam['Label'].value_counts()\n",
    "print(class_count)\n",
    "print(\"ratio : \", class_count['ham'] / class_count.sum() )"
   ]
  },
  {
   "cell_type": "code",
   "execution_count": null,
   "metadata": {},
   "outputs": [],
   "source": [
    "\"\"\" voca 만들기, \"\"\"\n",
    "# 모든 메시지를 단어 단위로 분리하고, 중복을 제거하여 고유 단어목록 생성\n",
    "# 각 고유 단어를 키로하고 값으로 0으로 초기화된 리스트를 가지는 딕셔너리 생성\n",
    "sms_word_split = sms_spam['SMS'].str.split()\n",
    "\n",
    "voca = []\n",
    "for sms in sms_word_split:\n",
    "    for word in sms:\n",
    "        voca.append(word)\n",
    "\n",
    "voca = list(set(voca))\n",
    "print(len(voca))\n",
    "# voca\n",
    "\n",
    "word_counts_per_sms = {unique_word: [0] * len(sms_spam['SMS']) for unique_word in voca}\n",
    "\n",
    "for index, sms in enumerate(sms_word_split):\n",
    "   for word in sms:\n",
    "      word_counts_per_sms[word][index] += 1\n",
    "\n",
    "word_counts = pd.DataFrame(word_counts_per_sms)\n",
    "word_counts"
   ]
  },
  {
   "cell_type": "code",
   "execution_count": null,
   "metadata": {},
   "outputs": [],
   "source": [
    "# 단어목록\n",
    "X = word_counts.copy()\n",
    "#결괏값 label\n",
    "y = sms_spam['Label'].copy()\n",
    "print(y)\n",
    "X_train, X_test, y_train, y_test = train_test_split(\n",
    "    X, \n",
    "    y, \n",
    "    test_size=0.5, \n",
    "    stratify=y,\n",
    "    random_state=195397 # 본인학번으로 변경\n",
    "    \n",
    ")\n",
    "\n",
    "print( y_train.value_counts() )\n",
    "print( y_test.value_counts() )"
   ]
  },
  {
   "cell_type": "code",
   "execution_count": null,
   "metadata": {},
   "outputs": [],
   "source": [
    "model = GaussianNB()\n",
    "model.fit(X_train, y_train) # 모델 학습\n",
    "\n",
    "print(\"Normal PDF mean : \" )\n",
    "print(model.theta_) # 각 클래스에 대한 평균 값\n",
    "print(\"Normal PDF variance : \" )\n",
    "print(model.var_) # 각 클래스에 대한 분산 값\n",
    "\n",
    "pred_train = model.predict(X_train)\n",
    "pred_test = model.predict(X_test)\n",
    "\n",
    "# 정확도는 올바르게 예측된 샘플의 비율\n",
    "acc_train = (pred_train == y_train).sum() / len(y_train) \n",
    "acc_test = (pred_test == y_test).sum() / len(y_test)\n",
    "\n",
    "print(\"train acc : \" , acc_train)\n",
    "print(\"test acc  : \" , acc_test)\n",
    "\n",
    "# 모델이 실제 레이블과 비교하여 어떻게 예측했는지 보여줌\n",
    "cmTrain = confusion_matrix(y_train, pred_train, labels=model.classes_)\n",
    "disp = ConfusionMatrixDisplay(confusion_matrix=cmTrain, display_labels=model.classes_)\n",
    "disp.plot()\n",
    "cmTest = confusion_matrix(y_test, pred_test, labels=model.classes_)\n",
    "disp = ConfusionMatrixDisplay(confusion_matrix=cmTest, display_labels=model.classes_)\n",
    "disp.plot()"
   ]
  },
  {
   "cell_type": "code",
   "execution_count": null,
   "metadata": {},
   "outputs": [],
   "source": [
    "\"\"\" 이전코드를 참고해서 iris 데이터셋으로 해보자 \"\"\"\n"
   ]
  }
 ],
 "metadata": {
  "kernelspec": {
   "display_name": "lecture",
   "language": "python",
   "name": "python3"
  },
  "language_info": {
   "codemirror_mode": {
    "name": "ipython",
    "version": 3
   },
   "file_extension": ".py",
   "mimetype": "text/x-python",
   "name": "python",
   "nbconvert_exporter": "python",
   "pygments_lexer": "ipython3",
   "version": "3.12.2"
  },
  "orig_nbformat": 4
 },
 "nbformat": 4,
 "nbformat_minor": 2
}
