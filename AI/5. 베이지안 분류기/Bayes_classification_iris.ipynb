{
 "cells": [
  {
   "cell_type": "code",
   "execution_count": 26,
   "metadata": {},
   "outputs": [],
   "source": [
    "import numpy as np\n",
    "import matplotlib.pyplot as plt\n",
    "import pandas as pd\n",
    "\n",
    "from sklearn.model_selection import train_test_split\n",
    "from sklearn.naive_bayes import GaussianNB\n",
    "from sklearn import datasets\n",
    "# 혼동행렬 생성 및 시각화\n",
    "from sklearn.metrics import confusion_matrix, ConfusionMatrixDisplay"
   ]
  },
  {
   "cell_type": "code",
   "execution_count": null,
   "metadata": {},
   "outputs": [],
   "source": [
    "# data생성 및 확인\n",
    "iris = datasets.load_iris()\n",
    "X = iris.data\n",
    "y = iris.target\n",
    "\n",
    "print(X)\n",
    "print(y)"
   ]
  },
  {
   "cell_type": "code",
   "execution_count": 28,
   "metadata": {},
   "outputs": [],
   "source": [
    "# data_split\n",
    "X_train, X_test, y_train, y_test = train_test_split(\n",
    "    X, \n",
    "    y, \n",
    "    test_size=0.5, \n",
    "    random_state=195397 # 본인학번으로 변경\n",
    ") "
   ]
  },
  {
   "cell_type": "code",
   "execution_count": null,
   "metadata": {},
   "outputs": [],
   "source": [
    "model = GaussianNB()\n",
    "model.fit(X_train, y_train) # 모델 학습\n",
    "\n",
    "print(\"Normal PDF mean : \" )\n",
    "print(model.theta_) # 각 클래스에 대한 평균 값\n",
    "print(\"Normal PDF variance : \" )\n",
    "print(model.var_) # 각 클래스에 대한 분산 값\n",
    "\n",
    "pred_train = model.predict(X_train)\n",
    "pred_test = model.predict(X_test)\n",
    "\n",
    "# 정확도는 올바르게 예측된 샘플의 비율\n",
    "acc_train = (pred_train == y_train).sum() / len(y_train) \n",
    "acc_test = (pred_test == y_test).sum() / len(y_test)\n",
    "\n",
    "print(\"train acc : \" , acc_train)\n",
    "print(\"test acc  : \" , acc_test)\n",
    "\n",
    "# 모델이 실제 레이블과 비교하여 어떻게 예측했는지 보여줌\n",
    "cmTrain = confusion_matrix(y_train, pred_train, labels=model.classes_)\n",
    "disp = ConfusionMatrixDisplay(confusion_matrix=cmTrain, display_labels=model.classes_)\n",
    "disp.plot()\n",
    "cmTest = confusion_matrix(y_test, pred_test, labels=model.classes_)\n",
    "disp = ConfusionMatrixDisplay(confusion_matrix=cmTest, display_labels=model.classes_)\n",
    "disp.plot()"
   ]
  },
  {
   "cell_type": "code",
   "execution_count": null,
   "metadata": {},
   "outputs": [],
   "source": [
    "model.predict([ [4.9, 3.4, 1.4, 0.2],\n",
    "                [6.6, 2.9, 4.1, 1.2] ]) "
   ]
  }
 ],
 "metadata": {
  "kernelspec": {
   "display_name": "AI_lecture",
   "language": "python",
   "name": "python3"
  },
  "language_info": {
   "codemirror_mode": {
    "name": "ipython",
    "version": 3
   },
   "file_extension": ".py",
   "mimetype": "text/x-python",
   "name": "python",
   "nbconvert_exporter": "python",
   "pygments_lexer": "ipython3",
   "version": "3.12.2"
  }
 },
 "nbformat": 4,
 "nbformat_minor": 2
}
